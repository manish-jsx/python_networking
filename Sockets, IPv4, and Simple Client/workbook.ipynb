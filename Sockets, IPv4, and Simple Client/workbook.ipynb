{
 "cells": [
  {
   "cell_type": "markdown",
   "metadata": {},
   "source": [
    "# Printing your machine's name and IPv4 address"
   ]
  },
  {
   "cell_type": "code",
   "execution_count": 1,
   "metadata": {},
   "outputs": [
    {
     "name": "stdout",
     "output_type": "stream",
     "text": [
      "Host name: Manishs-MacBook-Air.local\n",
      "IP address: 127.0.0.1\n"
     ]
    }
   ],
   "source": [
    "import socket\n",
    "def print_machine_info():\n",
    "    host_name = socket.gethostname()\n",
    "    ip_address = socket.gethostbyname(host_name)\n",
    "    print (\"Host name: %s\" %host_name)\n",
    "    print (\"IP address: %s\" %ip_address)\n",
    "if __name__ == '__main__':\n",
    "    print_machine_info()"
   ]
  },
  {
   "cell_type": "markdown",
   "metadata": {},
   "source": [
    "# Retrieving a remote machine's IP address\n"
   ]
  },
  {
   "cell_type": "code",
   "execution_count": 2,
   "metadata": {},
   "outputs": [
    {
     "name": "stdout",
     "output_type": "stream",
     "text": [
      "IP address of www.python.org: 199.232.20.223\n"
     ]
    }
   ],
   "source": [
    "import socket\n",
    "def get_remote_machine_info():\n",
    "    remote_host = 'www.python.org'\n",
    "    try:\n",
    "        print (\"IP address of %s: %s\" %(remote_host,\n",
    "        socket.gethostbyname(remote_host)))\n",
    "    except socket.error as err_msg:\n",
    "        print (\"%s: %s\" %(remote_host, err_msg))\n",
    "if __name__ == '__main__':\n",
    "    get_remote_machine_info()"
   ]
  },
  {
   "cell_type": "code",
   "execution_count": null,
   "metadata": {},
   "outputs": [],
   "source": [
    "import socket\n",
    "def get_remote_machine_info():\n",
    "    remote_host = 'www.pytgo.org'\n",
    "    try:\n",
    "        print (\"IP address of %s: %s\" %\n",
    "        (remote_host,\n",
    "        socket.gethostbyname(remote_host)))\n",
    "    except socket.error as err_msg:\n",
    "        print (\"%s: %s\" %(remote_host, err_msg))\n",
    "if __name__ == '__main__':\n",
    "    get_remote_machine_info()"
   ]
  },
  {
   "cell_type": "markdown",
   "metadata": {},
   "source": [
    "# Converting an IPv4 address to different formats\n"
   ]
  },
  {
   "cell_type": "code",
   "execution_count": 5,
   "metadata": {},
   "outputs": [
    {
     "name": "stdout",
     "output_type": "stream",
     "text": [
      "IP Address: 127.0.0.1 => Packed: b'7f000001',Unpacked: 127.0.0.1\n",
      "IP Address: 192.168.0.1 => Packed: b'c0a80001',Unpacked: 192.168.0.1\n"
     ]
    }
   ],
   "source": [
    "import socket\n",
    "from binascii import hexlify\n",
    "def convert_ip4_address():\n",
    "    for ip_addr in ['127.0.0.1', '192.168.0.1']:\n",
    "        packed_ip_addr = socket.inet_aton(ip_addr)\n",
    "        unpacked_ip_addr = socket.inet_ntoa(packed_ip_addr)\n",
    "        print (\"IP Address: %s => Packed: %s,Unpacked: %s\" %(ip_addr,hexlify(packed_ip_addr),unpacked_ip_addr))\n",
    "if __name__ == '__main__':\n",
    "    convert_ip4_address()"
   ]
  },
  {
   "cell_type": "markdown",
   "metadata": {},
   "source": [
    "# Finding a service name, given the port and protocol\n"
   ]
  },
  {
   "cell_type": "code",
   "execution_count": 6,
   "metadata": {},
   "outputs": [
    {
     "name": "stdout",
     "output_type": "stream",
     "text": [
      "Port: 80 => service name: http\n",
      "Port: 25 => service name: smtp\n",
      "Port: 53 => service name: domain\n"
     ]
    }
   ],
   "source": [
    "import socket\n",
    "def find_service_name():\n",
    "    protocolname = 'tcp'\n",
    "    for port in [80, 25]:\n",
    "        print (\"Port: %s => service name: %s\" %(port,socket.getservbyport(port, protocolname)))\n",
    "    print (\"Port: %s => service name: %s\" %(53, socket.getservbyport(53,'udp')))\n",
    "if __name__ == '__main__':\n",
    "    find_service_name()"
   ]
  },
  {
   "cell_type": "markdown",
   "metadata": {},
   "source": [
    "# Converting integers to and from host to network byte order\n"
   ]
  },
  {
   "cell_type": "code",
   "execution_count": 7,
   "metadata": {},
   "outputs": [
    {
     "name": "stdout",
     "output_type": "stream",
     "text": [
      "Original: 1234 => Long host byte order: 3523477504, Network byte order:3523477504\n",
      "Original: 1234 => Short host byte order: 53764, Network byte order:53764\n"
     ]
    }
   ],
   "source": [
    "import socket\n",
    "def convert_integer():\n",
    "    data = 1234\n",
    " # 32-bit\n",
    "    print (\"Original: %s => Long host byte order: %s, Network byte order:%s\" %(data, socket.ntohl(data), socket.htonl(data)))\n",
    " # 16-bit\n",
    "    print (\"Original: %s => Short host byte order: %s, Network byte order:%s\" %(data, socket.ntohs(data), socket.htons(data)))\n",
    "if __name__ == '__main__':\n",
    "    convert_integer()"
   ]
  },
  {
   "cell_type": "markdown",
   "metadata": {},
   "source": [
    "- Setting and getting the default socket timeout\n"
   ]
  },
  {
   "cell_type": "code",
   "execution_count": 8,
   "metadata": {},
   "outputs": [
    {
     "name": "stdout",
     "output_type": "stream",
     "text": [
      "Default socket timeout: None\n",
      "Current socket timeout: 100.0\n"
     ]
    }
   ],
   "source": [
    "import socket\n",
    "def test_socket_timeout():\n",
    "    s = socket.socket(socket.AF_INET, socket.SOCK_STREAM)\n",
    "    print (\"Default socket timeout: %s\" %s.gettimeout()),s.settimeout(100)\n",
    "    print (\"Current socket timeout: %s\" %s.gettimeout())\n",
    "if __name__ == '__main__':\n",
    "    test_socket_timeout()"
   ]
  },
  {
   "cell_type": "markdown",
   "metadata": {},
   "source": [
    "# Handling socket errors gracefully\n"
   ]
  },
  {
   "cell_type": "code",
   "execution_count": 10,
   "metadata": {},
   "outputs": [
    {
     "ename": "TypeError",
     "evalue": "str, bytes or bytearray expected, not NoneType",
     "output_type": "error",
     "traceback": [
      "\u001b[0;31m---------------------------------------------------------------------------\u001b[0m",
      "\u001b[0;31mTypeError\u001b[0m                                 Traceback (most recent call last)",
      "\u001b[1;32m/Users/manishkumar/code/python_networking/Sockets, IPv4, and Simple Client/workbook.ipynb Cell 15\u001b[0m line \u001b[0;36m4\n\u001b[1;32m     <a href='vscode-notebook-cell:/Users/manishkumar/code/python_networking/Sockets%2C%20IPv4%2C%20and%20Simple%20Client/workbook.ipynb#X31sZmlsZQ%3D%3D?line=45'>46</a>\u001b[0m         sys\u001b[39m.\u001b[39mstdout\u001b[39m.\u001b[39mwrite(buf\u001b[39m.\u001b[39mdecode(\u001b[39m'\u001b[39m\u001b[39mutf-8\u001b[39m\u001b[39m'\u001b[39m))\n\u001b[1;32m     <a href='vscode-notebook-cell:/Users/manishkumar/code/python_networking/Sockets%2C%20IPv4%2C%20and%20Simple%20Client/workbook.ipynb#X31sZmlsZQ%3D%3D?line=46'>47</a>\u001b[0m \u001b[39mif\u001b[39;00m \u001b[39m__name__\u001b[39m \u001b[39m==\u001b[39m \u001b[39m'\u001b[39m\u001b[39m__main__\u001b[39m\u001b[39m'\u001b[39m:\n\u001b[0;32m---> <a href='vscode-notebook-cell:/Users/manishkumar/code/python_networking/Sockets%2C%20IPv4%2C%20and%20Simple%20Client/workbook.ipynb#X31sZmlsZQ%3D%3D?line=47'>48</a>\u001b[0m     main()\n",
      "\u001b[1;32m/Users/manishkumar/code/python_networking/Sockets, IPv4, and Simple Client/workbook.ipynb Cell 15\u001b[0m line \u001b[0;36m2\n\u001b[1;32m     <a href='vscode-notebook-cell:/Users/manishkumar/code/python_networking/Sockets%2C%20IPv4%2C%20and%20Simple%20Client/workbook.ipynb#X31sZmlsZQ%3D%3D?line=19'>20</a>\u001b[0m \u001b[39m# Second try-except block -- connect to given host/port\u001b[39;00m\n\u001b[1;32m     <a href='vscode-notebook-cell:/Users/manishkumar/code/python_networking/Sockets%2C%20IPv4%2C%20and%20Simple%20Client/workbook.ipynb#X31sZmlsZQ%3D%3D?line=20'>21</a>\u001b[0m \u001b[39mtry\u001b[39;00m:\n\u001b[0;32m---> <a href='vscode-notebook-cell:/Users/manishkumar/code/python_networking/Sockets%2C%20IPv4%2C%20and%20Simple%20Client/workbook.ipynb#X31sZmlsZQ%3D%3D?line=21'>22</a>\u001b[0m     s\u001b[39m.\u001b[39;49mconnect((host, port))\n\u001b[1;32m     <a href='vscode-notebook-cell:/Users/manishkumar/code/python_networking/Sockets%2C%20IPv4%2C%20and%20Simple%20Client/workbook.ipynb#X31sZmlsZQ%3D%3D?line=22'>23</a>\u001b[0m \u001b[39mexcept\u001b[39;00m socket\u001b[39m.\u001b[39mgaierror \u001b[39mas\u001b[39;00m e:\n\u001b[1;32m     <a href='vscode-notebook-cell:/Users/manishkumar/code/python_networking/Sockets%2C%20IPv4%2C%20and%20Simple%20Client/workbook.ipynb#X31sZmlsZQ%3D%3D?line=23'>24</a>\u001b[0m     \u001b[39mprint\u001b[39m (\u001b[39m\"\u001b[39m\u001b[39mAddress-related error connecting to server: \u001b[39m\u001b[39m%s\u001b[39;00m\u001b[39m\"\u001b[39m \u001b[39m%\u001b[39m e)\n",
      "\u001b[0;31mTypeError\u001b[0m: str, bytes or bytearray expected, not NoneType"
     ]
    }
   ],
   "source": [
    "import sys\n",
    "import socket\n",
    "import argparse\n",
    "def main():\n",
    "    # setup argument parsing\n",
    "    parser = argparse.ArgumentParser(description='Socket Error Examples')\n",
    "    parser.add_argument('--host', action=\"store\", dest=\"host\",required=False)\n",
    "    parser.add_argument('--port', action=\"store\", dest=\"port\", type=int,required=False)\n",
    "    parser.add_argument('--file', action=\"store\", dest=\"file\",required=False)\n",
    "    given_args = parser.parse_args()\n",
    "    host = given_args.host\n",
    "    port = given_args.port\n",
    "    filename = given_args.file\n",
    "    # First try-except block -- create socket\n",
    "    try:\n",
    "        s = socket.socket(socket.AF_INET, socket.SOCK_STREAM)\n",
    "    except socket.error as e:\n",
    "        print (\"Error creating socket: %s\" % e)\n",
    "        sys.exit(1)\n",
    "    # Second try-except block -- connect to given host/port\n",
    "    try:\n",
    "        s.connect((host, port))\n",
    "    except socket.gaierror as e:\n",
    "        print (\"Address-related error connecting to server: %s\" % e)\n",
    "        sys.exit(1)\n",
    "    except socket.error as e:\n",
    "        print (\"Connection error: %s\" % e)\n",
    "        sys.exit(1)\n",
    "    # Third try-except block -- sending data\n",
    "    try:\n",
    "        msg = \"GET %s HTTP/1.0\\r\\n\\r\\n\" % filename\n",
    "        s.sendall(msg.encode('utf-8'))\n",
    "    except socket.error as e:\n",
    "        print (\"Error sending data: %s\" % e)\n",
    "        sys.exit(1)\n",
    "    while 1:\n",
    "        # Fourth tr-except block -- waiting to receive data from remote host\n",
    "        try:\n",
    "            buf = s.recv(2048)\n",
    "        except socket.error as e:\n",
    "            print (\"Error receiving data: %s\" % e)\n",
    "            sys.exit(1)\n",
    "        if not len(buf):\n",
    "            break\n",
    "        # write the received data\n",
    "        sys.stdout.write(buf.decode('utf-8'))\n",
    "if __name__ == '__main__':\n",
    "    main()"
   ]
  },
  {
   "cell_type": "markdown",
   "metadata": {},
   "source": [
    "- Modifying a socket's send/receive buffer size\n"
   ]
  },
  {
   "cell_type": "code",
   "execution_count": 11,
   "metadata": {},
   "outputs": [
    {
     "name": "stdout",
     "output_type": "stream",
     "text": [
      "Buffer size [Before]:131072\n",
      "Buffer size [After]:4096\n"
     ]
    }
   ],
   "source": [
    "import socket\n",
    "SEND_BUF_SIZE = 4096\n",
    "RECV_BUF_SIZE = 4096\n",
    "def modify_buff_size():\n",
    "    sock = socket.socket( socket.AF_INET, socket.SOCK_STREAM )\n",
    "    # Get the size of the socket's send buffer\n",
    "    bufsize = sock.getsockopt(socket.SOL_SOCKET, socket.SO_SNDBUF)\n",
    "    print (\"Buffer size [Before]:%d\" %bufsize)\n",
    "    sock.setsockopt(socket.SOL_TCP,socket.TCP_NODELAY, 1)\n",
    "    sock.setsockopt(socket.SOL_SOCKET,socket.SO_SNDBUF,SEND_BUF_SIZE)\n",
    "    sock.setsockopt(socket.SOL_SOCKET,socket.SO_RCVBUF,RECV_BUF_SIZE)\n",
    "    bufsize = sock.getsockopt(socket.SOL_SOCKET, socket.SO_SNDBUF)\n",
    "    print (\"Buffer size [After]:%d\" %bufsize)\n",
    "if __name__ == '__main__':\n",
    " modify_buff_size()"
   ]
  },
  {
   "cell_type": "markdown",
   "metadata": {},
   "source": [
    "- Changing a socket to the blocking/non-blocking mode\n"
   ]
  },
  {
   "cell_type": "code",
   "execution_count": 13,
   "metadata": {},
   "outputs": [
    {
     "name": "stdout",
     "output_type": "stream",
     "text": [
      "Trivial Server launched on socket: ('127.0.0.1', 60991)\n"
     ]
    },
    {
     "ename": "KeyboardInterrupt",
     "evalue": "",
     "output_type": "error",
     "traceback": [
      "\u001b[0;31m---------------------------------------------------------------------------\u001b[0m",
      "\u001b[0;31mKeyboardInterrupt\u001b[0m                         Traceback (most recent call last)",
      "\u001b[1;32m/Users/manishkumar/code/python_networking/Sockets, IPv4, and Simple Client/workbook.ipynb Cell 19\u001b[0m line \u001b[0;36m1\n\u001b[1;32m     <a href='vscode-notebook-cell:/Users/manishkumar/code/python_networking/Sockets%2C%20IPv4%2C%20and%20Simple%20Client/workbook.ipynb#X33sZmlsZQ%3D%3D?line=9'>10</a>\u001b[0m         s\u001b[39m.\u001b[39mlisten(\u001b[39m1\u001b[39m)\n\u001b[1;32m     <a href='vscode-notebook-cell:/Users/manishkumar/code/python_networking/Sockets%2C%20IPv4%2C%20and%20Simple%20Client/workbook.ipynb#X33sZmlsZQ%3D%3D?line=10'>11</a>\u001b[0m \u001b[39mif\u001b[39;00m \u001b[39m__name__\u001b[39m \u001b[39m==\u001b[39m \u001b[39m'\u001b[39m\u001b[39m__main__\u001b[39m\u001b[39m'\u001b[39m:\n\u001b[0;32m---> <a href='vscode-notebook-cell:/Users/manishkumar/code/python_networking/Sockets%2C%20IPv4%2C%20and%20Simple%20Client/workbook.ipynb#X33sZmlsZQ%3D%3D?line=11'>12</a>\u001b[0m  test_socket_modes()\n",
      "\u001b[1;32m/Users/manishkumar/code/python_networking/Sockets, IPv4, and Simple Client/workbook.ipynb Cell 19\u001b[0m line \u001b[0;36m1\n\u001b[1;32m      <a href='vscode-notebook-cell:/Users/manishkumar/code/python_networking/Sockets%2C%20IPv4%2C%20and%20Simple%20Client/workbook.ipynb#X33sZmlsZQ%3D%3D?line=7'>8</a>\u001b[0m \u001b[39mprint\u001b[39m (\u001b[39m\"\u001b[39m\u001b[39mTrivial Server launched on socket: \u001b[39m\u001b[39m%s\u001b[39;00m\u001b[39m\"\u001b[39m \u001b[39m%\u001b[39m\u001b[39mstr\u001b[39m(socket_address))\n\u001b[1;32m      <a href='vscode-notebook-cell:/Users/manishkumar/code/python_networking/Sockets%2C%20IPv4%2C%20and%20Simple%20Client/workbook.ipynb#X33sZmlsZQ%3D%3D?line=8'>9</a>\u001b[0m \u001b[39mwhile\u001b[39;00m(\u001b[39m1\u001b[39m):\n\u001b[0;32m---> <a href='vscode-notebook-cell:/Users/manishkumar/code/python_networking/Sockets%2C%20IPv4%2C%20and%20Simple%20Client/workbook.ipynb#X33sZmlsZQ%3D%3D?line=9'>10</a>\u001b[0m     s\u001b[39m.\u001b[39;49mlisten(\u001b[39m1\u001b[39;49m)\n",
      "\u001b[0;31mKeyboardInterrupt\u001b[0m: "
     ]
    }
   ],
   "source": [
    "import socket\n",
    "def test_socket_modes():\n",
    "    s = socket.socket(socket.AF_INET, socket.SOCK_STREAM)\n",
    "    s.setblocking(1)\n",
    "    s.settimeout(0.5)\n",
    "    s.bind((\"127.0.0.1\", 0))\n",
    "    socket_address = s.getsockname()\n",
    "    print (\"Trivial Server launched on socket: %s\" %str(socket_address))\n",
    "    while(1):\n",
    "        s.listen(1)\n",
    "if __name__ == '__main__':\n",
    " test_socket_modes()"
   ]
  },
  {
   "cell_type": "markdown",
   "metadata": {},
   "source": [
    "- Reusing socket addresses\n"
   ]
  },
  {
   "cell_type": "markdown",
   "metadata": {},
   "source": [
    "- Printing the current time from the internet time server\n"
   ]
  },
  {
   "cell_type": "code",
   "execution_count": 14,
   "metadata": {},
   "outputs": [
    {
     "name": "stdout",
     "output_type": "stream",
     "text": [
      "Thu Nov 30 18:32:08 2023\n"
     ]
    }
   ],
   "source": [
    "import ntplib\n",
    "from time import ctime\n",
    "def print_time():\n",
    "    ntp_client = ntplib.NTPClient()\n",
    "    response = ntp_client.request('pool.ntp.org')\n",
    "    print (ctime(response.tx_time))\n",
    "if __name__ == '__main__':\n",
    "    print_time()"
   ]
  },
  {
   "cell_type": "markdown",
   "metadata": {},
   "source": [
    "- Writing an SNTP client\n"
   ]
  },
  {
   "cell_type": "markdown",
   "metadata": {},
   "source": [
    "- Writing a simple TCP echo client/server application\n"
   ]
  },
  {
   "cell_type": "code",
   "execution_count": 17,
   "metadata": {},
   "outputs": [
    {
     "name": "stderr",
     "output_type": "stream",
     "text": [
      "usage: ipykernel_launcher.py [-h] --port PORT\n",
      "ipykernel_launcher.py: error: the following arguments are required: --port\n"
     ]
    },
    {
     "ename": "SystemExit",
     "evalue": "2",
     "output_type": "error",
     "traceback": [
      "An exception has occurred, use %tb to see the full traceback.\n",
      "\u001b[0;31mSystemExit\u001b[0m\u001b[0;31m:\u001b[0m 2\n"
     ]
    }
   ],
   "source": [
    "import socket\n",
    "import sys\n",
    "import argparse\n",
    "host = 'localhost'\n",
    "data_payload = 2048\n",
    "backlog = 5\n",
    "def echo_server(port):\n",
    "    \"\"\" A simple echo server \"\"\"\n",
    "    # Create a TCP socket\n",
    "    sock = socket.socket(socket.AF_INET,socket.SOCK_STREAM)\n",
    "    # Enable reuse address/port\n",
    "    sock.setsockopt(socket.SOL_SOCKET,socket.SO_REUSEADDR, 1)\n",
    "    # Bind the socket to the port\n",
    "    server_address = (host, port)\n",
    "    print (\"Starting up echo server on %sport %s\" % server_address)\n",
    "    sock.bind(server_address)\n",
    "    # Listen to clients, backlog argument specifies the max no.of queued connections\n",
    "    sock.listen(backlog)\n",
    "    while True:\n",
    "        print (\"Waiting to receive messagefrom client\")\n",
    "        client, address = sock.accept()\n",
    "        data = client.recv(data_payload)\n",
    "        if data:\n",
    "            print (\"Data: %s\" %data)\n",
    "            client.send(data)\n",
    "            print (\"sent %s bytes back to %s\" % (data, address))\n",
    "        # end connection\n",
    "        client.close()\n",
    "\n",
    "if __name__ == '__main__':\n",
    "    parser = argparse.ArgumentParser(description='Socket Server Example')\n",
    "    parser.add_argument('--port',action=\"store\", dest=\"port\", type=int,required=True)\n",
    "    given_args = parser.parse_args()\n",
    "    port = given_args.port\n",
    "    echo_server(port)"
   ]
  },
  {
   "cell_type": "code",
   "execution_count": null,
   "metadata": {},
   "outputs": [],
   "source": []
  },
  {
   "cell_type": "code",
   "execution_count": null,
   "metadata": {},
   "outputs": [],
   "source": [
    "import socket\n",
    "import sys\n",
    "import argparse\n",
    "host = 'localhost'\n",
    "data_payload = 2048\n",
    "backlog = 5\n",
    "def echo_server(port):\n",
    "    \"\"\" A simple echo server \"\"\"\n",
    "    # Create a TCP socket\n",
    "    sock = socket.socket(socket.AF_INET,socket.SOCK_STREAM)\n",
    "    # Enable reuse address/port\n",
    "    sock.setsockopt(socket.SOL_SOCKET,socket.SO_REUSEADDR, 1)\n",
    "    # Bind the socket to the port\n",
    "    server_address = (host, port)\n",
    "    print (\"Starting up echo server on %sport %s\" % server_address)\n",
    "    sock.bind(server_address)\n",
    "    # Listen to clients, backlog argument specifies the max no.of queued connections\n",
    "    sock.listen(backlog)\n",
    "    while True:\n",
    "        print (\"Waiting to receive messagefrom client\")\n",
    "        client, address = sock.accept()\n",
    "        data = client.recv(data_payload)\n",
    "        if data:\n",
    "            print (\"Data: %s\" %data)\n",
    "            client.send(data)\n",
    "            print (\"sent %s bytes back to %s\" % (data, address))\n",
    "        # end connection\n",
    "        client.close()\n",
    "\n",
    "if __name__ == '__main__':\n",
    "    parser = argparse.ArgumentParser(description='Socket Server Example')\n",
    "    parser.add_argument('--port',action=\"store\", dest=\"port\", type=int,required=True)\n",
    "    given_args = parser.parse_args()\n",
    "    port = given_args.port\n",
    "    echo_server(port)"
   ]
  },
  {
   "cell_type": "markdown",
   "metadata": {},
   "source": [
    "- Writing a simple UDP echo client/server application"
   ]
  }
 ],
 "metadata": {
  "kernelspec": {
   "display_name": "Python 3",
   "language": "python",
   "name": "python3"
  },
  "language_info": {
   "codemirror_mode": {
    "name": "ipython",
    "version": 3
   },
   "file_extension": ".py",
   "mimetype": "text/x-python",
   "name": "python",
   "nbconvert_exporter": "python",
   "pygments_lexer": "ipython3",
   "version": "3.11.6"
  }
 },
 "nbformat": 4,
 "nbformat_minor": 2
}
